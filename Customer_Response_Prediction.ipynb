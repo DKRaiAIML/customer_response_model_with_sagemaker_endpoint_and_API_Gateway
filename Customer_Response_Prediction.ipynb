{
 "cells": [
  {
   "cell_type": "markdown",
   "id": "3fce03e1-6873-4c6c-84e7-aada7eec12af",
   "metadata": {},
   "source": [
    "# Install Libraries"
   ]
  },
  {
   "cell_type": "code",
   "execution_count": 2,
   "id": "200c08f0",
   "metadata": {
    "tags": []
   },
   "outputs": [
    {
     "name": "stdout",
     "output_type": "stream",
     "text": [
      "Requirement already satisfied: s3fs in /opt/conda/lib/python3.7/site-packages (0.4.2)\n",
      "Requirement already satisfied: fsspec>=0.6.0 in /opt/conda/lib/python3.7/site-packages (from s3fs) (2023.1.0)\n",
      "Requirement already satisfied: botocore>=1.12.91 in /opt/conda/lib/python3.7/site-packages (from s3fs) (1.29.125)\n",
      "Requirement already satisfied: python-dateutil<3.0.0,>=2.1 in /opt/conda/lib/python3.7/site-packages (from botocore>=1.12.91->s3fs) (2.8.2)\n",
      "Requirement already satisfied: urllib3<1.27,>=1.25.4 in /opt/conda/lib/python3.7/site-packages (from botocore>=1.12.91->s3fs) (1.26.15)\n",
      "Requirement already satisfied: jmespath<2.0.0,>=0.7.1 in /opt/conda/lib/python3.7/site-packages (from botocore>=1.12.91->s3fs) (1.0.1)\n",
      "Requirement already satisfied: six>=1.5 in /opt/conda/lib/python3.7/site-packages (from python-dateutil<3.0.0,>=2.1->botocore>=1.12.91->s3fs) (1.14.0)\n",
      "\u001b[33mWARNING: Running pip as the 'root' user can result in broken permissions and conflicting behaviour with the system package manager. It is recommended to use a virtual environment instead: https://pip.pypa.io/warnings/venv\u001b[0m\u001b[33m\n",
      "\u001b[0m\n",
      "\u001b[1m[\u001b[0m\u001b[34;49mnotice\u001b[0m\u001b[1;39;49m]\u001b[0m\u001b[39;49m A new release of pip is available: \u001b[0m\u001b[31;49m23.0.1\u001b[0m\u001b[39;49m -> \u001b[0m\u001b[32;49m23.1.2\u001b[0m\n",
      "\u001b[1m[\u001b[0m\u001b[34;49mnotice\u001b[0m\u001b[1;39;49m]\u001b[0m\u001b[39;49m To update, run: \u001b[0m\u001b[32;49mpip install --upgrade pip\u001b[0m\n",
      "Requirement already satisfied: boto3 in /opt/conda/lib/python3.7/site-packages (1.26.125)\n",
      "Requirement already satisfied: s3transfer<0.7.0,>=0.6.0 in /opt/conda/lib/python3.7/site-packages (from boto3) (0.6.0)\n",
      "Requirement already satisfied: botocore<1.30.0,>=1.29.125 in /opt/conda/lib/python3.7/site-packages (from boto3) (1.29.125)\n",
      "Requirement already satisfied: jmespath<2.0.0,>=0.7.1 in /opt/conda/lib/python3.7/site-packages (from boto3) (1.0.1)\n",
      "Requirement already satisfied: python-dateutil<3.0.0,>=2.1 in /opt/conda/lib/python3.7/site-packages (from botocore<1.30.0,>=1.29.125->boto3) (2.8.2)\n",
      "Requirement already satisfied: urllib3<1.27,>=1.25.4 in /opt/conda/lib/python3.7/site-packages (from botocore<1.30.0,>=1.29.125->boto3) (1.26.15)\n",
      "Requirement already satisfied: six>=1.5 in /opt/conda/lib/python3.7/site-packages (from python-dateutil<3.0.0,>=2.1->botocore<1.30.0,>=1.29.125->boto3) (1.14.0)\n",
      "\u001b[33mWARNING: Running pip as the 'root' user can result in broken permissions and conflicting behaviour with the system package manager. It is recommended to use a virtual environment instead: https://pip.pypa.io/warnings/venv\u001b[0m\u001b[33m\n",
      "\u001b[0m\n",
      "\u001b[1m[\u001b[0m\u001b[34;49mnotice\u001b[0m\u001b[1;39;49m]\u001b[0m\u001b[39;49m A new release of pip is available: \u001b[0m\u001b[31;49m23.0.1\u001b[0m\u001b[39;49m -> \u001b[0m\u001b[32;49m23.1.2\u001b[0m\n",
      "\u001b[1m[\u001b[0m\u001b[34;49mnotice\u001b[0m\u001b[1;39;49m]\u001b[0m\u001b[39;49m To update, run: \u001b[0m\u001b[32;49mpip install --upgrade pip\u001b[0m\n",
      "Note: you may need to restart the kernel to use updated packages.\n"
     ]
    }
   ],
   "source": [
    "!pip3 install s3fs\n",
    "%pip install --upgrade boto3"
   ]
  },
  {
   "cell_type": "markdown",
   "id": "fe8c7c4e-5cf7-46cb-bf34-6a124b1db195",
   "metadata": {},
   "source": [
    "# Import Required Libraries"
   ]
  },
  {
   "cell_type": "code",
   "execution_count": 3,
   "id": "b7c84d24",
   "metadata": {
    "tags": []
   },
   "outputs": [],
   "source": [
    "import pandas as pd\n",
    "\n",
    "from sklearn.model_selection import train_test_split\n",
    "from sklearn.linear_model import LogisticRegression\n",
    "from sklearn.tree import DecisionTreeClassifier\n",
    "from sklearn.metrics import accuracy_score,confusion_matrix\n",
    "from sklearn.metrics import roc_auc_score,roc_curve,f1_score\n",
    "import matplotlib.pyplot as plt\n",
    "from sklearn.feature_selection import SelectKBest,chi2 ## chi2 for classification problem\n",
    "\n",
    "import seaborn as sns\n",
    "%matplotlib inline\n",
    "\n",
    "import warnings\n",
    "warnings.filterwarnings('ignore')\n",
    "\n",
    "import sagemaker\n",
    "from sagemaker import get_execution_role\n",
    "\n",
    "import boto3\n",
    "from botocore.exceptions import ClientError\n",
    "\n",
    "import json\n",
    "\n",
    "import os\n",
    "import time\n",
    "from time import gmtime, strftime\n",
    "import joblib\n",
    "import subprocess"
   ]
  },
  {
   "cell_type": "markdown",
   "id": "6fbb8d37-cf29-4b2d-be6b-405ef6c9c137",
   "metadata": {},
   "source": [
    "# Read data"
   ]
  },
  {
   "cell_type": "code",
   "execution_count": 4,
   "id": "6679fe97",
   "metadata": {
    "tags": []
   },
   "outputs": [],
   "source": [
    "# Read Data\n",
    "x = pd.read_csv(\"x_one.csv\")\n",
    "y = pd.read_csv(\"y_one.csv\")\n",
    "\n",
    "# Merge them back \n",
    "x['response']=y\n",
    "\n",
    "# Create df in case we need it\n",
    "df = x.copy(deep=True)\n",
    "\n",
    "\n",
    "x = x.dropna(axis=0, how='any')\n",
    "y = x['response']\n",
    "x = x.drop(['response'], axis=1)"
   ]
  },
  {
   "cell_type": "markdown",
   "id": "8eb70bb6-3f0c-4b0a-b8f4-c1503641c1b9",
   "metadata": {},
   "source": [
    "# Prepare Train Test Sets"
   ]
  },
  {
   "cell_type": "code",
   "execution_count": 5,
   "id": "bc864822",
   "metadata": {
    "tags": []
   },
   "outputs": [],
   "source": [
    "x_train,x_test,y_train,y_test=train_test_split(x,y,test_size=0.20)"
   ]
  },
  {
   "cell_type": "markdown",
   "id": "7db7124e-5c75-4837-935b-6bebbfc16294",
   "metadata": {
    "tags": []
   },
   "source": [
    "# Define Endpoint Name"
   ]
  },
  {
   "cell_type": "code",
   "execution_count": 6,
   "id": "8f220661",
   "metadata": {
    "tags": []
   },
   "outputs": [],
   "source": [
    "endpoint_name = 'cm-poc-salesforce'\n",
    "EndpointName=endpoint_name"
   ]
  },
  {
   "cell_type": "markdown",
   "id": "f706696d-563b-48e2-8fb7-449d09ded9fb",
   "metadata": {},
   "source": [
    "# Build and Test Model"
   ]
  },
  {
   "cell_type": "markdown",
   "id": "4f93d48a-f35b-44d4-87d1-811c69393ac9",
   "metadata": {},
   "source": [
    "### Logistic Regression"
   ]
  },
  {
   "cell_type": "code",
   "execution_count": 7,
   "id": "f813595c",
   "metadata": {
    "tags": []
   },
   "outputs": [
    {
     "name": "stdout",
     "output_type": "stream",
     "text": [
      "Train Score:  0.9789379256320517\n",
      "Test Score:  0.9774599484510031\n",
      " logistic Accuracy 0.9774599484510031\n",
      " Roc Auc Score0.4888040841083704\n"
     ]
    }
   ],
   "source": [
    "lg=LogisticRegression()\n",
    "lg.fit(x_train,y_train)\n",
    "print(\"Train Score: \", lg.score(x_train,y_train))\n",
    "print(\"Test Score: \", lg.score(x_test,y_test))\n",
    "lg_pred = lg.predict(x_test)\n",
    "lg_pred_proba = lg.predict_proba(x_test)\n",
    "\n",
    "print(f' logistic Accuracy {accuracy_score(lg_pred,y_test)}')\n",
    "print(f' Roc Auc Score{roc_auc_score(lg_pred,y_test)}')"
   ]
  },
  {
   "cell_type": "markdown",
   "id": "9d6ae45e-8e60-4096-aa74-29d2a537b7ac",
   "metadata": {},
   "source": [
    "### Decision Tree Classifier"
   ]
  },
  {
   "cell_type": "code",
   "execution_count": 8,
   "id": "20d69f43",
   "metadata": {
    "tags": []
   },
   "outputs": [
    {
     "name": "stdout",
     "output_type": "stream",
     "text": [
      "Train Score:  0.9991913780686571\n",
      "Test Score:  0.9528983676151008\n"
     ]
    }
   ],
   "source": [
    "dc=DecisionTreeClassifier(random_state=222,criterion='gini',min_samples_leaf=1)\n",
    "dc.fit(x_train,y_train)\n",
    "print(\"Train Score: \", dc.score(x_train,y_train))\n",
    "print(\"Test Score: \", dc.score(x_test,y_test))\n",
    "dc_pred = dc.predict(x_test)\n",
    "dc_pred_proba = dc.predict_proba(x_test)"
   ]
  },
  {
   "cell_type": "code",
   "execution_count": 9,
   "id": "ce808094",
   "metadata": {
    "tags": []
   },
   "outputs": [
    {
     "name": "stdout",
     "output_type": "stream",
     "text": [
      "[0]\n",
      "[0]\n",
      "[0 0 0]\n",
      " Decision Tree Accuracy: 0.9528983676151008\n",
      " Decision Tree f1_score: 0.05091649694501018\n",
      " Roc Auc Score0.5123328236304724\n",
      "Confusion Matric Values (tn, fp, fn, tp):  18830 514 418 25\n"
     ]
    },
    {
     "data": {
      "text/plain": [
       "'\\nx = dc.predict([[5610,2.0,2.0,2,121,31,25,502],[16200,2.0,2.0,2,232,31,25,331],[13200,2.0,2.0,2,232,31,25,3310]]).tolist()\\nprint(type(x))\\nprint(x)\\nprint(x.shape)\\n'"
      ]
     },
     "execution_count": 9,
     "metadata": {},
     "output_type": "execute_result"
    }
   ],
   "source": [
    "x_test_one=x_test.copy(deep=False)\n",
    "\n",
    "x_test_one['pred']=dc_pred\n",
    "predicted=x_test_one[x_test_one['pred']==1]\n",
    "non_predict=x_test_one[x_test_one['pred']==0]\n",
    "\n",
    "predicted.head(2)\n",
    "\n",
    "print(dc.predict([[16200,2.0,2.0,2,232,31,25,331]]))\n",
    "print(dc.predict([[5610,2.0,2.0,2,121,31,25,502]]))\n",
    "print(dc.predict([[5610,2.0,2.0,2,121,31,25,502],[16200,2.0,2.0,2,232,31,25,331],[13200,2.0,2.0,2,232,31,25,3310]]))\n",
    "\n",
    "predicted.to_csv('predicted.csv')\n",
    "\n",
    "print(f' Decision Tree Accuracy: {accuracy_score(dc_pred,y_test)}')\n",
    "print(f' Decision Tree f1_score: {f1_score(dc_pred,y_test)}')\n",
    "print(f' Roc Auc Score{roc_auc_score(dc_pred,y_test)}')\n",
    "\n",
    "tn, fp, fn, tp = confusion_matrix(y_test,dc_pred).ravel()\n",
    "print(\"Confusion Matric Values (tn, fp, fn, tp): \", tn, fp, fn, tp)\n",
    "\n",
    "'''\n",
    "x = dc.predict([[5610,2.0,2.0,2,121,31,25,502],[16200,2.0,2.0,2,232,31,25,331],[13200,2.0,2.0,2,232,31,25,3310]]).tolist()\n",
    "print(type(x))\n",
    "print(x)\n",
    "print(x.shape)\n",
    "'''"
   ]
  },
  {
   "cell_type": "markdown",
   "id": "6638a2b9-7d9d-43a0-a445-324d1e6068c8",
   "metadata": {},
   "source": [
    "##### Accuracy Score is not the Model    ---   models=accuracy_score(dc_pred,y_test)"
   ]
  },
  {
   "cell_type": "markdown",
   "id": "1cb01030-2eae-4b25-97ec-a9df8b5b4c73",
   "metadata": {},
   "source": [
    "# Save Model Artifacts to S3"
   ]
  },
  {
   "attachments": {
    "2c0497bb-ff6f-46a0-b4fa-cad61dde3093.png": {
     "image/png": "[encoded data removed]"
    }
   },
   "cell_type": "markdown",
   "id": "edfd048a-0f74-406e-96bc-bb296d669749",
   "metadata": {},
   "source": [
    "### We need to modify inference.py to match the input and output format of data expected for the model. See:  https://sagemaker.readthedocs.io/en/stable/frameworks/tensorflow/using_tf.html#id32\n",
    "\n",
    "![image.png](attachment:2c0497bb-ff6f-46a0-b4fa-cad61dde3093.png)"
   ]
  },
  {
   "cell_type": "code",
   "execution_count": 10,
   "id": "ed9e09d5-178c-412f-92bc-dee5d815a263",
   "metadata": {
    "tags": []
   },
   "outputs": [
    {
     "name": "stdout",
     "output_type": "stream",
     "text": [
      "sagemaker-us-east-1-768394235073\n",
      "s3://sagemaker-us-east-1-768394235073/Customer_Response_Prediction/model.tar.gz\n"
     ]
    }
   ],
   "source": [
    "role = get_execution_role()\n",
    "sagemaker_session = sagemaker.Session()\n",
    "#Bucket for model artifacts \n",
    "bucket = sagemaker_session.default_bucket()\n",
    "print(bucket)\n",
    "\n",
    "session = boto3.session.Session()\n",
    "s3 = session.resource('s3')\n",
    "region_name = session.region_name\n",
    "\n",
    "sagemaker_client = session.client(\n",
    "    service_name='sagemaker',\n",
    "    region_name=region_name\n",
    ")\n",
    "\n",
    "runtime_client = session.client(\n",
    "    service_name ='sagemaker-runtime',\n",
    "    region_name=region_name\n",
    ")\n",
    "\n",
    "###### Endpoint Prefix format should match the one in example below ######\n",
    "project_name = \"Customer_Response_Prediction\"\n",
    "end_point_prefix = \"customer-response-prediction\"\n",
    "\n",
    "with open('model.joblib', 'wb') as f:\n",
    "    joblib.dump(dc,f)\n",
    "\n",
    "#Build tar file with model data + inference code \n",
    "bashCommand = \"tar -cvpzf model.tar.gz model.joblib inference.py\"\n",
    "process = subprocess.Popen(bashCommand.split(), stdout=subprocess.PIPE)\n",
    "output, error = process.communicate()\n",
    "\n",
    "#Upload tar.gz to bucket\n",
    "model_artifacts = f\"s3://{bucket}/{project_name}/model.tar.gz\"\n",
    "s3.meta.client.upload_file('model.tar.gz', bucket, project_name+'/model.tar.gz')\n",
    "print(model_artifacts)"
   ]
  },
  {
   "cell_type": "markdown",
   "id": "2a952211-0769-42e5-8c05-28486ec3a181",
   "metadata": {},
   "source": [
    "# Create Model"
   ]
  },
  {
   "cell_type": "code",
   "execution_count": 11,
   "id": "04063096-c41f-419d-abe9-f18a27bff743",
   "metadata": {
    "tags": []
   },
   "outputs": [
    {
     "name": "stdout",
     "output_type": "stream",
     "text": [
      "Model name: customer-response-prediction-2023-05-03-16-57-45\n",
      "Model Arn: arn:aws:sagemaker:us-east-1:768394235073:model/customer-response-prediction-2023-05-03-16-57-45\n"
     ]
    }
   ],
   "source": [
    "# retrieve sklearn image \n",
    "image_uri = sagemaker.image_uris.retrieve(\n",
    "    framework=\"sklearn\",\n",
    "    region=region_name,\n",
    "    version=\"1.0-1\",\n",
    "    py_version=\"py3\",\n",
    "    instance_type=\"ml.m5.xlarge\",\n",
    ")\n",
    "\n",
    "#Create Model\n",
    "model_name = end_point_prefix + \"-\" + strftime(\"%Y-%m-%d-%H-%M-%S\", gmtime())\n",
    "print(\"Model name: \" + model_name)\n",
    "create_model_response = sagemaker_client.create_model(\n",
    "    ModelName=model_name,\n",
    "    Containers=[\n",
    "        {\n",
    "            \"Image\": image_uri,\n",
    "            \"Mode\": \"SingleModel\",\n",
    "            \"ModelDataUrl\": model_artifacts,\n",
    "            \"Environment\": {'SAGEMAKER_SUBMIT_DIRECTORY': model_artifacts,\n",
    "                           'SAGEMAKER_PROGRAM': 'inference.py'} \n",
    "        }\n",
    "    ],\n",
    "    ExecutionRoleArn=role,\n",
    ")\n",
    "print(\"Model Arn: \" + create_model_response[\"ModelArn\"])\n"
   ]
  },
  {
   "cell_type": "code",
   "execution_count": null,
   "id": "5f09e59c-1348-4d38-b912-4c34221c660b",
   "metadata": {},
   "outputs": [],
   "source": []
  },
  {
   "cell_type": "markdown",
   "id": "f49a9206-31a9-4c31-8af2-3872f3f48b15",
   "metadata": {},
   "source": [
    "# Create Endpoint"
   ]
  },
  {
   "cell_type": "code",
   "execution_count": 12,
   "id": "3f0e9a85-5ee1-4b90-bd0a-d2d326e2b091",
   "metadata": {
    "tags": []
   },
   "outputs": [
    {
     "name": "stdout",
     "output_type": "stream",
     "text": [
      "Endpoint Configuration Arn: arn:aws:sagemaker:us-east-1:768394235073:endpoint-config/customer-response-prediction-2023-05-03-16-57-45\n",
      "Endpoint Arn: arn:aws:sagemaker:us-east-1:768394235073:endpoint/customer-response-prediction2023-05-03-16-57-46\n",
      "Creating\n",
      "Creating\n",
      "Creating\n",
      "Creating\n",
      "Creating\n",
      "Creating\n",
      "Creating\n",
      "Creating\n",
      "Creating\n",
      "Creating\n",
      "InService\n",
      "{'EndpointName': 'customer-response-prediction2023-05-03-16-57-46', 'EndpointArn': 'arn:aws:sagemaker:us-east-1:768394235073:endpoint/customer-response-prediction2023-05-03-16-57-46', 'EndpointConfigName': 'customer-response-prediction-2023-05-03-16-57-45', 'ProductionVariants': [{'VariantName': 'sklearnvariant', 'DeployedImages': [{'SpecifiedImage': '683313688378.dkr.ecr.us-east-1.amazonaws.com/sagemaker-scikit-learn:1.0-1-cpu-py3', 'ResolvedImage': '683313688378.dkr.ecr.us-east-1.amazonaws.com/sagemaker-scikit-learn@sha256:9dea8a5bb0ea9b48854d4b2b1f1d439e310718c29bea2fe76566a3e287c50de4', 'ResolutionTime': datetime.datetime(2023, 5, 3, 16, 57, 47, 379000, tzinfo=tzlocal())}], 'CurrentWeight': 1.0, 'DesiredWeight': 1.0, 'CurrentInstanceCount': 1, 'DesiredInstanceCount': 1}], 'EndpointStatus': 'InService', 'CreationTime': datetime.datetime(2023, 5, 3, 16, 57, 46, 776000, tzinfo=tzlocal()), 'LastModifiedTime': datetime.datetime(2023, 5, 3, 17, 0, 7, 278000, tzinfo=tzlocal()), 'ResponseMetadata': {'RequestId': '072906c9-c8c8-4f49-b956-59ed1790284b', 'HTTPStatusCode': 200, 'HTTPHeaders': {'x-amzn-requestid': '072906c9-c8c8-4f49-b956-59ed1790284b', 'content-type': 'application/x-amz-json-1.1', 'content-length': '809', 'date': 'Wed, 03 May 2023 17:00:17 GMT'}, 'RetryAttempts': 0}}\n"
     ]
    }
   ],
   "source": [
    "# Create Endpoint Configuration\n",
    "sklearn_epc_name = end_point_prefix + \"-\" + strftime(\"%Y-%m-%d-%H-%M-%S\", gmtime())\n",
    "endpoint_config_response = sagemaker_client.create_endpoint_config(\n",
    "    EndpointConfigName=sklearn_epc_name,\n",
    "    ProductionVariants=[\n",
    "        {\n",
    "            \"VariantName\": \"sklearnvariant\",\n",
    "            \"ModelName\": model_name,\n",
    "            \"InstanceType\": \"ml.c5.large\",\n",
    "            \"InitialInstanceCount\": 1\n",
    "        },\n",
    "    ],\n",
    ")\n",
    "print(\"Endpoint Configuration Arn: \" + endpoint_config_response[\"EndpointConfigArn\"])\n",
    "\n",
    "# Create Endpoint\n",
    "endpoint_name = end_point_prefix + strftime(\"%Y-%m-%d-%H-%M-%S\", gmtime())\n",
    "create_endpoint_response = sagemaker_client.create_endpoint(\n",
    "    EndpointName=endpoint_name,\n",
    "    EndpointConfigName=sklearn_epc_name,\n",
    ")\n",
    "print(\"Endpoint Arn: \" + create_endpoint_response[\"EndpointArn\"])\n",
    "\n",
    "#Monitor creation\n",
    "describe_endpoint_response = sagemaker_client.describe_endpoint(EndpointName=endpoint_name)\n",
    "while describe_endpoint_response[\"EndpointStatus\"] == \"Creating\":\n",
    "    describe_endpoint_response = sagemaker_client.describe_endpoint(EndpointName=endpoint_name)\n",
    "    print(describe_endpoint_response[\"EndpointStatus\"])\n",
    "    time.sleep(15)\n",
    "print(describe_endpoint_response)"
   ]
  },
  {
   "cell_type": "markdown",
   "id": "6e453098-fa7c-4c00-ab1a-485f05124278",
   "metadata": {},
   "source": [
    "# Test Endpoint"
   ]
  },
  {
   "cell_type": "code",
   "execution_count": 13,
   "id": "d40cd14b-0b18-438a-848d-17788f087bc9",
   "metadata": {
    "tags": []
   },
   "outputs": [
    {
     "name": "stdout",
     "output_type": "stream",
     "text": [
      "[0, 0]\n"
     ]
    }
   ],
   "source": [
    "\n",
    "content_type = \"application/json\"\n",
    "request_body = {\n",
    "   \"instances\" : [ \n",
    "      {\n",
    "         \"features\" : [16200,2.0,2.0,2,232,31,25,331]\n",
    "      },\n",
    "     {\n",
    "        \"features\" : [5610,2.0,2.0,2,121,31,25,502]\n",
    "     }\n",
    "  ]\n",
    "}\n",
    "\n",
    "data = json.loads(json.dumps(request_body))\n",
    "payload = json.dumps(data)\n",
    "endpoint_name = describe_endpoint_response['EndpointName']\n",
    "\n",
    "response = runtime_client.invoke_endpoint(\n",
    "    EndpointName=endpoint_name,\n",
    "    ContentType=content_type,\n",
    "    Body=payload)\n",
    "result = json.loads(response['Body'].read().decode())['predictions']\n",
    "print(result)"
   ]
  },
  {
   "cell_type": "code",
   "execution_count": 14,
   "id": "a1a2fef7-4450-4cd8-b0d5-282dc0493f2e",
   "metadata": {},
   "outputs": [
    {
     "ename": "NameError",
     "evalue": "name 'xxx' is not defined",
     "output_type": "error",
     "traceback": [
      "\u001b[0;31m---------------------------------------------------------------------------\u001b[0m",
      "\u001b[0;31mNameError\u001b[0m                                 Traceback (most recent call last)",
      "\u001b[0;32m<ipython-input-14-38170c08cb45>\u001b[0m in \u001b[0;36m<module>\u001b[0;34m\u001b[0m\n\u001b[0;32m----> 1\u001b[0;31m \u001b[0mxxx\u001b[0m\u001b[0;34m\u001b[0m\u001b[0;34m\u001b[0m\u001b[0m\n\u001b[0m",
      "\u001b[0;31mNameError\u001b[0m: name 'xxx' is not defined"
     ]
    }
   ],
   "source": [
    "xxx"
   ]
  },
  {
   "cell_type": "markdown",
   "id": "87da6aee-419f-461b-98dc-aa3fe175ffdc",
   "metadata": {
    "tags": []
   },
   "source": [
    "# Create API Gateway Using Cloudformation Template"
   ]
  },
  {
   "cell_type": "code",
   "execution_count": 49,
   "id": "f0978261-1635-4052-bc67-1cd682f70397",
   "metadata": {
    "tags": []
   },
   "outputs": [
    {
     "name": "stdout",
     "output_type": "stream",
     "text": [
      "API Gateway Creation Initiated\n",
      "...\n",
      "...\n",
      "...\n",
      "...\n",
      "...\n",
      "...\n",
      "...\n",
      "...\n",
      "...\n",
      "...\n",
      "...\n",
      "[{'OutputKey': 'ProdDataEndpoint', 'OutputValue': 'https://17li1fr2o7.execute-api.us-east-1.amazonaws.com/v1/', 'Description': 'API Prod stage endpoint'}]\n"
     ]
    }
   ],
   "source": [
    "#template_url = 'https://cf-templates-t63rjiazdc4e-us-east-1.s3.amazonaws.com/APIGateway_Lambda_ApiKey.yaml'\n",
    "template_url = 'https://cf-templates-t63rjiazdc4e-us-east-1.s3.amazonaws.com/APIG_Lambda_ApiKey.yaml'\n",
    "\n",
    "cf_client = boto3.client('cloudformation')\n",
    "response = cf_client.create_stack(\n",
    "    StackName=endpoint_name,\n",
    "    TemplateURL= template_url,\n",
    "    Parameters=[\n",
    "        {\n",
    "            'ParameterKey': 'endpointName',\n",
    "            'ParameterValue': endpoint_name\n",
    "        },\n",
    "    ],\n",
    "    DisableRollback=False,\n",
    "    TimeoutInMinutes=10,\n",
    "    Capabilities=[\n",
    "        'CAPABILITY_NAMED_IAM'\n",
    "    ],\n",
    "    EnableTerminationProtection=False\n",
    ")\n",
    "print(\"API Gateway Creation Initiated\")\n",
    "response = ''\n",
    "res = 'CREATE_IN_PROGRESS'\n",
    "while res == 'CREATE_IN_PROGRESS':\n",
    "    response = cf_client.describe_stacks(\n",
    "    StackName=endpoint_name\n",
    "    )\n",
    "    res = response['Stacks'][0]['StackStatus']\n",
    "    print(\"...\")\n",
    "    time.sleep(5)\n",
    "print(response['Stacks'][0]['Outputs'])"
   ]
  },
  {
   "cell_type": "code",
   "execution_count": null,
   "id": "9120fab8-cec0-4283-b354-b8d63a4922c2",
   "metadata": {},
   "outputs": [],
   "source": [
    "xxxxx"
   ]
  },
  {
   "cell_type": "code",
   "execution_count": null,
   "id": "f35a027a-0b1a-424b-b0bf-d0d06931e401",
   "metadata": {},
   "outputs": [],
   "source": []
  },
  {
   "cell_type": "markdown",
   "id": "934b6a52-54a2-468d-bf4b-30133a0d1a2f",
   "metadata": {},
   "source": [
    "# Cleanup"
   ]
  },
  {
   "cell_type": "code",
   "execution_count": null,
   "id": "472ca77d-4024-435f-a9fd-1f8c38757f1e",
   "metadata": {
    "tags": []
   },
   "outputs": [],
   "source": [
    "sagemaker_client.delete_endpoint(EndpointName=endpoint_name)\n",
    "sagemaker_client.delete_endpoint_config(EndpointConfigName=sklearn_epc_name)\n",
    "response = cf_client.delete_stack(StackName=endpoint_name)"
   ]
  },
  {
   "cell_type": "markdown",
   "id": "da71d607-5733-4697-bf99-d49f1be7d7af",
   "metadata": {},
   "source": [
    "# Curl Command for Testing API Gateway"
   ]
  },
  {
   "cell_type": "code",
   "execution_count": 50,
   "id": "fb240003-137f-40b5-92c0-284d41c54190",
   "metadata": {},
   "outputs": [
    {
     "name": "stdout",
     "output_type": "stream",
     "text": [
      "HTTP/1.1 200 OK\n",
      "\u001b[1mDate\u001b[0m: Wed, 03 May 2023 19:55:55 GMT\n",
      "\u001b[1mContent-Type\u001b[0m: application/json\n",
      "\u001b[1mContent-Length\u001b[0m: 21\n",
      "\u001b[1mConnection\u001b[0m: close\n",
      "\u001b[1mx-amzn-RequestId\u001b[0m: 49c07bf6-cc5c-418a-afd1-4b7b071f7016\n",
      "\u001b[1mx-amz-apigw-id\u001b[0m: EXJbwH7BIAMFucQ=\n",
      "\u001b[1mX-Amzn-Trace-Id\u001b[0m: Root=1-6452bc4a-158b0053419bda30036af028;Sampled=0\n",
      "\n",
      "{\"predictions\":[0,0]}"
     ]
    }
   ],
   "source": [
    "command = f''' curl -i -H \"x-api-key: vFExM5UNITfyzV6CECbKax3Br04OSR18OcTaNOQ7\" -H \"Content-Type: application/json\" -X GET https://17li1fr2o7.execute-api.us-east-1.amazonaws.com/v1/CustomerResponse -d ''' + ''' ' {\"instances\" : [{\"features\" : [16200,2.0,2.0,2,232,31,25,331]},{\"features\" : [5610,2.0,2.0,2,121,31,25,502]}]}' '''\n",
    "!{command}"
   ]
  },
  {
   "cell_type": "code",
   "execution_count": null,
   "id": "5c40d50a-c01f-4091-b1da-53534039e9d9",
   "metadata": {
    "tags": []
   },
   "outputs": [],
   "source": [
    "print(endpoint_name)"
   ]
  },
  {
   "cell_type": "code",
   "execution_count": null,
   "id": "85d732a5-60ea-41b3-9116-71dc88ef65e3",
   "metadata": {},
   "outputs": [],
   "source": []
  },
  {
   "cell_type": "markdown",
   "id": "64bb3d26-3251-4c5b-a444-e665876e7fcf",
   "metadata": {},
   "source": [
    "# Test Event"
   ]
  },
  {
   "cell_type": "code",
   "execution_count": null,
   "id": "e9930e44-6efd-4b0a-a312-2fc5877de9ba",
   "metadata": {},
   "outputs": [],
   "source": [
    "'''\n",
    "{\n",
    "  \"resource\": \"/hello\",\n",
    "  \"path\": \"/hello\",\n",
    "  \"httpMethod\": \"GET\",\n",
    "  \"headers\": {\n",
    "    \"Accept\": \"*/*\",\n",
    "    \"Content-Type\": \"application/json\",\n",
    "    \"Host\": \"kd41c641pj.execute-api.us-east-1.amazonaws.com\",\n",
    "    \"User-Agent\": \"curl/7.68.0\",\n",
    "    \"X-Amzn-Trace-Id\": \"Root=1-6451f8cd-13aeec971b77fa2b3625b65e\",\n",
    "    \"x-api-key\": \"ikzPViwtQk6w1eZ0cL3FG8jWALYb0erU5T0t1xiP\",\n",
    "    \"X-Forwarded-For\": \"52.4.240.77\",\n",
    "    \"X-Forwarded-Port\": \"443\",\n",
    "    \"X-Forwarded-Proto\": \"https\"\n",
    "  },\n",
    "  \"multiValueHeaders\": {\n",
    "    \"Accept\": [\n",
    "      \"*/*\"\n",
    "    ],\n",
    "    \"Content-Type\": [\n",
    "      \"application/json\"\n",
    "    ],\n",
    "    \"Host\": [\n",
    "      \"kd41c641pj.execute-api.us-east-1.amazonaws.com\"\n",
    "    ],\n",
    "    \"User-Agent\": [\n",
    "      \"curl/7.68.0\"\n",
    "    ],\n",
    "    \"X-Amzn-Trace-Id\": [\n",
    "      \"Root=1-6451f8cd-13aeec971b77fa2b3625b65e\"\n",
    "    ],\n",
    "    \"x-api-key\": [\n",
    "      \"ikzPViwtQk6w1eZ0cL3FG8jWALYb0erU5T0t1xiP\"\n",
    "    ],\n",
    "    \"X-Forwarded-For\": [\n",
    "      \"52.4.240.77\"\n",
    "    ],\n",
    "    \"X-Forwarded-Port\": [\n",
    "      \"443\"\n",
    "    ],\n",
    "    \"X-Forwarded-Proto\": [\n",
    "      \"https\"\n",
    "    ]\n",
    "  },\n",
    "  \"queryStringParameters\": null,\n",
    "  \"multiValueQueryStringParameters\": null,\n",
    "  \"pathParameters\": null,\n",
    "  \"stageVariables\": null,\n",
    "  \"requestContext\": {\n",
    "    \"resourceId\": \"iayvok\",\n",
    "    \"resourcePath\": \"/hello\",\n",
    "    \"operationName\": \"hello\",\n",
    "    \"httpMethod\": \"GET\",\n",
    "    \"extendedRequestId\": \"EVPQMEDDIAMFRXQ=\",\n",
    "    \"requestTime\": \"03/May/2023:06:01:49 +0000\",\n",
    "    \"path\": \"/v1/hello\",\n",
    "    \"accountId\": \"768394235073\",\n",
    "    \"protocol\": \"HTTP/1.1\",\n",
    "    \"stage\": \"v1\",\n",
    "    \"domainPrefix\": \"kd41c641pj\",\n",
    "    \"requestTimeEpoch\": 1683093709796,\n",
    "    \"requestId\": \"16c63c63-8658-40a7-8752-f99a004157fe\",\n",
    "    \"identity\": {\n",
    "      \"cognitoIdentityPoolId\": null,\n",
    "      \"cognitoIdentityId\": null,\n",
    "      \"apiKey\": \"ikzPViwtQk6w1eZ0cL3FG8jWALYb0erU5T0t1xiP\",\n",
    "      \"principalOrgId\": null,\n",
    "      \"cognitoAuthenticationType\": null,\n",
    "      \"userArn\": null,\n",
    "      \"apiKeyId\": \"3j8ze65on4\",\n",
    "      \"userAgent\": \"curl/7.68.0\",\n",
    "      \"accountId\": null,\n",
    "      \"caller\": null,\n",
    "      \"sourceIp\": \"52.4.240.77\",\n",
    "      \"accessKey\": null,\n",
    "      \"cognitoAuthenticationProvider\": null,\n",
    "      \"user\": null\n",
    "    },\n",
    "    \"domainName\": \"kd41c641pj.execute-api.us-east-1.amazonaws.com\",\n",
    "    \"apiId\": \"kd41c641pj\"\n",
    "  },\n",
    "  \"body\": \" {\\\"instances\\\" : [{\\\"features\\\" : [16200,2.0,2.0,2,232,31,25,331]},{\\\"features\\\" : [5610,2.0,2.0,2,121,31,25,502]}]}\",\n",
    "  \"isBase64Encoded\": false\n",
    "}\n",
    "'''"
   ]
  },
  {
   "cell_type": "code",
   "execution_count": null,
   "id": "5480a460-8205-4d2b-8f00-ea26459858df",
   "metadata": {},
   "outputs": [],
   "source": [
    "command = f''' curl -i -H \"x-api-key: {apig['key_value']}\" -H \"Content-Type: application/json\" -X POST {apig['API_Gateway_URL']}/getInference -d ''' + ''' '{\"Input\": [[\"100.0000000000000000000\"]]}' '''\n",
    "!{command}"
   ]
  },
  {
   "cell_type": "code",
   "execution_count": null,
   "id": "16408967",
   "metadata": {
    "tags": []
   },
   "outputs": [],
   "source": [
    "import boto3\n",
    "client=boto3.client('sagemaker-runtime')\n",
    "response=client.invoke_endpoint(EndpointName='example-gus-test',Body=test_file.getvalue(),ContentType='text/csv')"
   ]
  }
 ],
 "metadata": {
  "availableInstances": [
   {
    "_defaultOrder": 0,
    "_isFastLaunch": true,
    "category": "General purpose",
    "gpuNum": 0,
    "hideHardwareSpecs": false,
    "memoryGiB": 4,
    "name": "ml.t3.medium",
    "vcpuNum": 2
   },
   {
    "_defaultOrder": 1,
    "_isFastLaunch": false,
    "category": "General purpose",
    "gpuNum": 0,
    "hideHardwareSpecs": false,
    "memoryGiB": 8,
    "name": "ml.t3.large",
    "vcpuNum": 2
   },
   {
    "_defaultOrder": 2,
    "_isFastLaunch": false,
    "category": "General purpose",
    "gpuNum": 0,
    "hideHardwareSpecs": false,
    "memoryGiB": 16,
    "name": "ml.t3.xlarge",
    "vcpuNum": 4
   },
   {
    "_defaultOrder": 3,
    "_isFastLaunch": false,
    "category": "General purpose",
    "gpuNum": 0,
    "hideHardwareSpecs": false,
    "memoryGiB": 32,
    "name": "ml.t3.2xlarge",
    "vcpuNum": 8
   },
   {
    "_defaultOrder": 4,
    "_isFastLaunch": true,
    "category": "General purpose",
    "gpuNum": 0,
    "hideHardwareSpecs": false,
    "memoryGiB": 8,
    "name": "ml.m5.large",
    "vcpuNum": 2
   },
   {
    "_defaultOrder": 5,
    "_isFastLaunch": false,
    "category": "General purpose",
    "gpuNum": 0,
    "hideHardwareSpecs": false,
    "memoryGiB": 16,
    "name": "ml.m5.xlarge",
    "vcpuNum": 4
   },
   {
    "_defaultOrder": 6,
    "_isFastLaunch": false,
    "category": "General purpose",
    "gpuNum": 0,
    "hideHardwareSpecs": false,
    "memoryGiB": 32,
    "name": "ml.m5.2xlarge",
    "vcpuNum": 8
   },
   {
    "_defaultOrder": 7,
    "_isFastLaunch": false,
    "category": "General purpose",
    "gpuNum": 0,
    "hideHardwareSpecs": false,
    "memoryGiB": 64,
    "name": "ml.m5.4xlarge",
    "vcpuNum": 16
   },
   {
    "_defaultOrder": 8,
    "_isFastLaunch": false,
    "category": "General purpose",
    "gpuNum": 0,
    "hideHardwareSpecs": false,
    "memoryGiB": 128,
    "name": "ml.m5.8xlarge",
    "vcpuNum": 32
   },
   {
    "_defaultOrder": 9,
    "_isFastLaunch": false,
    "category": "General purpose",
    "gpuNum": 0,
    "hideHardwareSpecs": false,
    "memoryGiB": 192,
    "name": "ml.m5.12xlarge",
    "vcpuNum": 48
   },
   {
    "_defaultOrder": 10,
    "_isFastLaunch": false,
    "category": "General purpose",
    "gpuNum": 0,
    "hideHardwareSpecs": false,
    "memoryGiB": 256,
    "name": "ml.m5.16xlarge",
    "vcpuNum": 64
   },
   {
    "_defaultOrder": 11,
    "_isFastLaunch": false,
    "category": "General purpose",
    "gpuNum": 0,
    "hideHardwareSpecs": false,
    "memoryGiB": 384,
    "name": "ml.m5.24xlarge",
    "vcpuNum": 96
   },
   {
    "_defaultOrder": 12,
    "_isFastLaunch": false,
    "category": "General purpose",
    "gpuNum": 0,
    "hideHardwareSpecs": false,
    "memoryGiB": 8,
    "name": "ml.m5d.large",
    "vcpuNum": 2
   },
   {
    "_defaultOrder": 13,
    "_isFastLaunch": false,
    "category": "General purpose",
    "gpuNum": 0,
    "hideHardwareSpecs": false,
    "memoryGiB": 16,
    "name": "ml.m5d.xlarge",
    "vcpuNum": 4
   },
   {
    "_defaultOrder": 14,
    "_isFastLaunch": false,
    "category": "General purpose",
    "gpuNum": 0,
    "hideHardwareSpecs": false,
    "memoryGiB": 32,
    "name": "ml.m5d.2xlarge",
    "vcpuNum": 8
   },
   {
    "_defaultOrder": 15,
    "_isFastLaunch": false,
    "category": "General purpose",
    "gpuNum": 0,
    "hideHardwareSpecs": false,
    "memoryGiB": 64,
    "name": "ml.m5d.4xlarge",
    "vcpuNum": 16
   },
   {
    "_defaultOrder": 16,
    "_isFastLaunch": false,
    "category": "General purpose",
    "gpuNum": 0,
    "hideHardwareSpecs": false,
    "memoryGiB": 128,
    "name": "ml.m5d.8xlarge",
    "vcpuNum": 32
   },
   {
    "_defaultOrder": 17,
    "_isFastLaunch": false,
    "category": "General purpose",
    "gpuNum": 0,
    "hideHardwareSpecs": false,
    "memoryGiB": 192,
    "name": "ml.m5d.12xlarge",
    "vcpuNum": 48
   },
   {
    "_defaultOrder": 18,
    "_isFastLaunch": false,
    "category": "General purpose",
    "gpuNum": 0,
    "hideHardwareSpecs": false,
    "memoryGiB": 256,
    "name": "ml.m5d.16xlarge",
    "vcpuNum": 64
   },
   {
    "_defaultOrder": 19,
    "_isFastLaunch": false,
    "category": "General purpose",
    "gpuNum": 0,
    "hideHardwareSpecs": false,
    "memoryGiB": 384,
    "name": "ml.m5d.24xlarge",
    "vcpuNum": 96
   },
   {
    "_defaultOrder": 20,
    "_isFastLaunch": false,
    "category": "General purpose",
    "gpuNum": 0,
    "hideHardwareSpecs": true,
    "memoryGiB": 0,
    "name": "ml.geospatial.interactive",
    "supportedImageNames": [
     "sagemaker-geospatial-v1-0"
    ],
    "vcpuNum": 0
   },
   {
    "_defaultOrder": 21,
    "_isFastLaunch": true,
    "category": "Compute optimized",
    "gpuNum": 0,
    "hideHardwareSpecs": false,
    "memoryGiB": 4,
    "name": "ml.c5.large",
    "vcpuNum": 2
   },
   {
    "_defaultOrder": 22,
    "_isFastLaunch": false,
    "category": "Compute optimized",
    "gpuNum": 0,
    "hideHardwareSpecs": false,
    "memoryGiB": 8,
    "name": "ml.c5.xlarge",
    "vcpuNum": 4
   },
   {
    "_defaultOrder": 23,
    "_isFastLaunch": false,
    "category": "Compute optimized",
    "gpuNum": 0,
    "hideHardwareSpecs": false,
    "memoryGiB": 16,
    "name": "ml.c5.2xlarge",
    "vcpuNum": 8
   },
   {
    "_defaultOrder": 24,
    "_isFastLaunch": false,
    "category": "Compute optimized",
    "gpuNum": 0,
    "hideHardwareSpecs": false,
    "memoryGiB": 32,
    "name": "ml.c5.4xlarge",
    "vcpuNum": 16
   },
   {
    "_defaultOrder": 25,
    "_isFastLaunch": false,
    "category": "Compute optimized",
    "gpuNum": 0,
    "hideHardwareSpecs": false,
    "memoryGiB": 72,
    "name": "ml.c5.9xlarge",
    "vcpuNum": 36
   },
   {
    "_defaultOrder": 26,
    "_isFastLaunch": false,
    "category": "Compute optimized",
    "gpuNum": 0,
    "hideHardwareSpecs": false,
    "memoryGiB": 96,
    "name": "ml.c5.12xlarge",
    "vcpuNum": 48
   },
   {
    "_defaultOrder": 27,
    "_isFastLaunch": false,
    "category": "Compute optimized",
    "gpuNum": 0,
    "hideHardwareSpecs": false,
    "memoryGiB": 144,
    "name": "ml.c5.18xlarge",
    "vcpuNum": 72
   },
   {
    "_defaultOrder": 28,
    "_isFastLaunch": false,
    "category": "Compute optimized",
    "gpuNum": 0,
    "hideHardwareSpecs": false,
    "memoryGiB": 192,
    "name": "ml.c5.24xlarge",
    "vcpuNum": 96
   },
   {
    "_defaultOrder": 29,
    "_isFastLaunch": true,
    "category": "Accelerated computing",
    "gpuNum": 1,
    "hideHardwareSpecs": false,
    "memoryGiB": 16,
    "name": "ml.g4dn.xlarge",
    "vcpuNum": 4
   },
   {
    "_defaultOrder": 30,
    "_isFastLaunch": false,
    "category": "Accelerated computing",
    "gpuNum": 1,
    "hideHardwareSpecs": false,
    "memoryGiB": 32,
    "name": "ml.g4dn.2xlarge",
    "vcpuNum": 8
   },
   {
    "_defaultOrder": 31,
    "_isFastLaunch": false,
    "category": "Accelerated computing",
    "gpuNum": 1,
    "hideHardwareSpecs": false,
    "memoryGiB": 64,
    "name": "ml.g4dn.4xlarge",
    "vcpuNum": 16
   },
   {
    "_defaultOrder": 32,
    "_isFastLaunch": false,
    "category": "Accelerated computing",
    "gpuNum": 1,
    "hideHardwareSpecs": false,
    "memoryGiB": 128,
    "name": "ml.g4dn.8xlarge",
    "vcpuNum": 32
   },
   {
    "_defaultOrder": 33,
    "_isFastLaunch": false,
    "category": "Accelerated computing",
    "gpuNum": 4,
    "hideHardwareSpecs": false,
    "memoryGiB": 192,
    "name": "ml.g4dn.12xlarge",
    "vcpuNum": 48
   },
   {
    "_defaultOrder": 34,
    "_isFastLaunch": false,
    "category": "Accelerated computing",
    "gpuNum": 1,
    "hideHardwareSpecs": false,
    "memoryGiB": 256,
    "name": "ml.g4dn.16xlarge",
    "vcpuNum": 64
   },
   {
    "_defaultOrder": 35,
    "_isFastLaunch": false,
    "category": "Accelerated computing",
    "gpuNum": 1,
    "hideHardwareSpecs": false,
    "memoryGiB": 61,
    "name": "ml.p3.2xlarge",
    "vcpuNum": 8
   },
   {
    "_defaultOrder": 36,
    "_isFastLaunch": false,
    "category": "Accelerated computing",
    "gpuNum": 4,
    "hideHardwareSpecs": false,
    "memoryGiB": 244,
    "name": "ml.p3.8xlarge",
    "vcpuNum": 32
   },
   {
    "_defaultOrder": 37,
    "_isFastLaunch": false,
    "category": "Accelerated computing",
    "gpuNum": 8,
    "hideHardwareSpecs": false,
    "memoryGiB": 488,
    "name": "ml.p3.16xlarge",
    "vcpuNum": 64
   },
   {
    "_defaultOrder": 38,
    "_isFastLaunch": false,
    "category": "Accelerated computing",
    "gpuNum": 8,
    "hideHardwareSpecs": false,
    "memoryGiB": 768,
    "name": "ml.p3dn.24xlarge",
    "vcpuNum": 96
   },
   {
    "_defaultOrder": 39,
    "_isFastLaunch": false,
    "category": "Memory Optimized",
    "gpuNum": 0,
    "hideHardwareSpecs": false,
    "memoryGiB": 16,
    "name": "ml.r5.large",
    "vcpuNum": 2
   },
   {
    "_defaultOrder": 40,
    "_isFastLaunch": false,
    "category": "Memory Optimized",
    "gpuNum": 0,
    "hideHardwareSpecs": false,
    "memoryGiB": 32,
    "name": "ml.r5.xlarge",
    "vcpuNum": 4
   },
   {
    "_defaultOrder": 41,
    "_isFastLaunch": false,
    "category": "Memory Optimized",
    "gpuNum": 0,
    "hideHardwareSpecs": false,
    "memoryGiB": 64,
    "name": "ml.r5.2xlarge",
    "vcpuNum": 8
   },
   {
    "_defaultOrder": 42,
    "_isFastLaunch": false,
    "category": "Memory Optimized",
    "gpuNum": 0,
    "hideHardwareSpecs": false,
    "memoryGiB": 128,
    "name": "ml.r5.4xlarge",
    "vcpuNum": 16
   },
   {
    "_defaultOrder": 43,
    "_isFastLaunch": false,
    "category": "Memory Optimized",
    "gpuNum": 0,
    "hideHardwareSpecs": false,
    "memoryGiB": 256,
    "name": "ml.r5.8xlarge",
    "vcpuNum": 32
   },
   {
    "_defaultOrder": 44,
    "_isFastLaunch": false,
    "category": "Memory Optimized",
    "gpuNum": 0,
    "hideHardwareSpecs": false,
    "memoryGiB": 384,
    "name": "ml.r5.12xlarge",
    "vcpuNum": 48
   },
   {
    "_defaultOrder": 45,
    "_isFastLaunch": false,
    "category": "Memory Optimized",
    "gpuNum": 0,
    "hideHardwareSpecs": false,
    "memoryGiB": 512,
    "name": "ml.r5.16xlarge",
    "vcpuNum": 64
   },
   {
    "_defaultOrder": 46,
    "_isFastLaunch": false,
    "category": "Memory Optimized",
    "gpuNum": 0,
    "hideHardwareSpecs": false,
    "memoryGiB": 768,
    "name": "ml.r5.24xlarge",
    "vcpuNum": 96
   },
   {
    "_defaultOrder": 47,
    "_isFastLaunch": false,
    "category": "Accelerated computing",
    "gpuNum": 1,
    "hideHardwareSpecs": false,
    "memoryGiB": 16,
    "name": "ml.g5.xlarge",
    "vcpuNum": 4
   },
   {
    "_defaultOrder": 48,
    "_isFastLaunch": false,
    "category": "Accelerated computing",
    "gpuNum": 1,
    "hideHardwareSpecs": false,
    "memoryGiB": 32,
    "name": "ml.g5.2xlarge",
    "vcpuNum": 8
   },
   {
    "_defaultOrder": 49,
    "_isFastLaunch": false,
    "category": "Accelerated computing",
    "gpuNum": 1,
    "hideHardwareSpecs": false,
    "memoryGiB": 64,
    "name": "ml.g5.4xlarge",
    "vcpuNum": 16
   },
   {
    "_defaultOrder": 50,
    "_isFastLaunch": false,
    "category": "Accelerated computing",
    "gpuNum": 1,
    "hideHardwareSpecs": false,
    "memoryGiB": 128,
    "name": "ml.g5.8xlarge",
    "vcpuNum": 32
   },
   {
    "_defaultOrder": 51,
    "_isFastLaunch": false,
    "category": "Accelerated computing",
    "gpuNum": 1,
    "hideHardwareSpecs": false,
    "memoryGiB": 256,
    "name": "ml.g5.16xlarge",
    "vcpuNum": 64
   },
   {
    "_defaultOrder": 52,
    "_isFastLaunch": false,
    "category": "Accelerated computing",
    "gpuNum": 4,
    "hideHardwareSpecs": false,
    "memoryGiB": 192,
    "name": "ml.g5.12xlarge",
    "vcpuNum": 48
   },
   {
    "_defaultOrder": 53,
    "_isFastLaunch": false,
    "category": "Accelerated computing",
    "gpuNum": 4,
    "hideHardwareSpecs": false,
    "memoryGiB": 384,
    "name": "ml.g5.24xlarge",
    "vcpuNum": 96
   },
   {
    "_defaultOrder": 54,
    "_isFastLaunch": false,
    "category": "Accelerated computing",
    "gpuNum": 8,
    "hideHardwareSpecs": false,
    "memoryGiB": 768,
    "name": "ml.g5.48xlarge",
    "vcpuNum": 192
   }
  ],
  "instance_type": "ml.t3.medium",
  "kernelspec": {
   "display_name": "Python 3 (Data Science)",
   "language": "python",
   "name": "python3__SAGEMAKER_INTERNAL__arn:aws:sagemaker:us-east-1:081325390199:image/datascience-1.0"
  },
  "language_info": {
   "codemirror_mode": {
    "name": "ipython",
    "version": 3
   },
   "file_extension": ".py",
   "mimetype": "text/x-python",
   "name": "python",
   "nbconvert_exporter": "python",
   "pygments_lexer": "ipython3",
   "version": "3.7.10"
  }
 },
 "nbformat": 4,
 "nbformat_minor": 5
}
